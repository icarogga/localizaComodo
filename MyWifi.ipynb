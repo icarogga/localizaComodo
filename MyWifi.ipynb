{
  "nbformat": 4,
  "nbformat_minor": 0,
  "metadata": {
    "colab": {
      "name": "MyWifi.ipynb",
      "provenance": [],
      "collapsed_sections": [],
      "include_colab_link": true
    },
    "kernelspec": {
      "name": "python3",
      "display_name": "Python 3"
    },
    "language_info": {
      "name": "python"
    }
  },
  "cells": [
    {
      "cell_type": "markdown",
      "metadata": {
        "id": "view-in-github",
        "colab_type": "text"
      },
      "source": [
        "<a href=\"https://colab.research.google.com/github/icarogga/localizaComodo/blob/main/MyWifi.ipynb\" target=\"_parent\"><img src=\"https://colab.research.google.com/assets/colab-badge.svg\" alt=\"Open In Colab\"/></a>"
      ]
    },
    {
      "cell_type": "code",
      "metadata": {
        "id": "P9jh0Qj9lS9x"
      },
      "source": [
        "import sklearn\n",
        "import pandas as pd\n",
        "import numpy as np\n",
        "import os"
      ],
      "execution_count": null,
      "outputs": []
    },
    {
      "cell_type": "code",
      "metadata": {
        "id": "WXF6nc8Nl1at"
      },
      "source": [
        "os.chdir('/content/drive/MyDrive/datasets')"
      ],
      "execution_count": null,
      "outputs": []
    },
    {
      "cell_type": "code",
      "metadata": {
        "id": "UAEkWYmSmJJV"
      },
      "source": [
        "df = pd.read_csv('my_wifi.csv')"
      ],
      "execution_count": null,
      "outputs": []
    },
    {
      "cell_type": "code",
      "metadata": {
        "id": "v2ObH-e7BJhU"
      },
      "source": [
        "X = df.drop('Class', axis=1)"
      ],
      "execution_count": null,
      "outputs": []
    },
    {
      "cell_type": "code",
      "metadata": {
        "id": "Z-eL6YXwBOjB"
      },
      "source": [
        "y = df.copy().pop('Class')"
      ],
      "execution_count": null,
      "outputs": []
    },
    {
      "cell_type": "code",
      "metadata": {
        "id": "dpLowY5r7Oo7"
      },
      "source": [
        "from sklearn.model_selection import train_test_split\n",
        "\n",
        "X_train, X_val, y_train, y_val = train_test_split(X, y, test_size=0.16, random_state=1, stratify=y)\n",
        "\n",
        "X_train, X_test, y_train, y_test = train_test_split(X_train, y_train, test_size=0.19, random_state=1, stratify=y_train)"
      ],
      "execution_count": null,
      "outputs": []
    },
    {
      "cell_type": "code",
      "metadata": {
        "id": "sIrHDmka9p7_"
      },
      "source": [
        "from sklearn.neighbors import KNeighborsClassifier"
      ],
      "execution_count": null,
      "outputs": []
    },
    {
      "cell_type": "code",
      "metadata": {
        "id": "3NfuMS-c-g5x"
      },
      "source": [
        "neigh = KNeighborsClassifier(n_neighbors=3, weights = 'distance', p = 1)"
      ],
      "execution_count": null,
      "outputs": []
    },
    {
      "cell_type": "code",
      "metadata": {
        "colab": {
          "base_uri": "https://localhost:8080/"
        },
        "id": "KJy-C_W6-jJn",
        "outputId": "6003982d-2453-48e5-de6f-b4388782533d"
      },
      "source": [
        "neigh.fit(X_train, y_train)"
      ],
      "execution_count": null,
      "outputs": [
        {
          "output_type": "execute_result",
          "data": {
            "text/plain": [
              "KNeighborsClassifier(algorithm='auto', leaf_size=30, metric='minkowski',\n",
              "                     metric_params=None, n_jobs=None, n_neighbors=3, p=1,\n",
              "                     weights='distance')"
            ]
          },
          "metadata": {
            "tags": []
          },
          "execution_count": 9
        }
      ]
    },
    {
      "cell_type": "code",
      "metadata": {
        "id": "7-yRs59M-kx1"
      },
      "source": [
        "predicted_values = neigh.predict(X_val)"
      ],
      "execution_count": null,
      "outputs": []
    },
    {
      "cell_type": "code",
      "metadata": {
        "colab": {
          "base_uri": "https://localhost:8080/"
        },
        "id": "m6bEQnvq-8I7",
        "outputId": "45f0837d-7f00-4f40-f8f8-322eb403f0df"
      },
      "source": [
        "from sklearn.metrics import f1_score\n",
        "\n",
        "print(f1_score(y_val, predicted_values, average='macro'))\n",
        "print(f1_score(y_val, predicted_values, average='micro'))\n",
        "print(f1_score(y_val, predicted_values, average='weighted'))"
      ],
      "execution_count": null,
      "outputs": [
        {
          "output_type": "stream",
          "text": [
            "1.0\n",
            "1.0\n",
            "1.0\n"
          ],
          "name": "stdout"
        }
      ]
    },
    {
      "cell_type": "code",
      "metadata": {
        "colab": {
          "base_uri": "https://localhost:8080/"
        },
        "id": "1llzrBq7_BkE",
        "outputId": "f808ab76-873f-49b5-af22-67ed0ceea244"
      },
      "source": [
        "X_train_val = pd.concat([X_train, X_val])\n",
        "y_train_val = pd.concat([y_train, y_val])\n",
        "\n",
        "neigh.fit(X_train_val, y_train_val)\n",
        "\n",
        "predicted_values_test = neigh.predict(X_test)\n",
        "\n",
        "from sklearn.metrics import accuracy_score\n",
        "from sklearn.metrics import precision_score\n",
        "from sklearn.metrics import recall_score\n",
        "from sklearn.metrics import confusion_matrix\n",
        "\n",
        "accuracy_score(y_test, predicted_values_test)\n",
        "\n",
        "print(precision_score(y_test, predicted_values_test, average='macro'))\n",
        "print(precision_score(y_test, predicted_values_test, average='micro'))\n",
        "print(precision_score(y_test, predicted_values_test, average='weighted'))\n",
        "\n",
        "print(recall_score(y_test, predicted_values_test, average='macro'))\n",
        "print(recall_score(y_test, predicted_values_test, average='micro'))\n",
        "print(recall_score(y_test, predicted_values_test, average='weighted'))\n",
        "\n",
        "print(f1_score(y_test, predicted_values_test, average='macro'))\n",
        "print(f1_score(y_test, predicted_values_test, average='micro'))\n",
        "print(f1_score(y_test, predicted_values_test, average='weighted'))\n",
        "\n",
        "confusion_matrix(y_test, predicted_values_test)"
      ],
      "execution_count": null,
      "outputs": [
        {
          "output_type": "stream",
          "text": [
            "1.0\n",
            "1.0\n",
            "1.0\n",
            "1.0\n",
            "1.0\n",
            "1.0\n",
            "1.0\n",
            "1.0\n",
            "1.0\n"
          ],
          "name": "stdout"
        },
        {
          "output_type": "execute_result",
          "data": {
            "text/plain": [
              "array([[2, 0, 0],\n",
              "       [0, 3, 0],\n",
              "       [0, 0, 3]])"
            ]
          },
          "metadata": {
            "tags": []
          },
          "execution_count": 12
        }
      ]
    }
  ]
}